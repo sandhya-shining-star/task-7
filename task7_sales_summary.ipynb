{
 "cells": [
  {
   "cell_type": "markdown",
   "id": "60fe27d9",
   "metadata": {},
   "source": [
    "# Task 7: Sales Summary using Python and SQLite"
   ]
  },
  {
   "cell_type": "code",
   "execution_count": 4,
   "id": "1947ac24",
   "metadata": {},
   "outputs": [],
   "source": [
    "import sqlite3\n",
    "import pandas as pd\n",
    "import matplotlib.pyplot as plt"
   ]
  },
  {
   "cell_type": "code",
   "execution_count": 5,
   "id": "df8dfc02",
   "metadata": {},
   "outputs": [
    {
     "data": {
      "text/plain": [
       "<sqlite3.Cursor at 0x11bf8185e40>"
      ]
     },
     "execution_count": 5,
     "metadata": {},
     "output_type": "execute_result"
    }
   ],
   "source": [
    "# Connect to SQLite database (creates it if it doesn't exist)\n",
    "conn = sqlite3.connect(\"sales_data.db\")\n",
    "\n",
    "# Create sales table\n",
    "conn.execute('''\n",
    "CREATE TABLE IF NOT EXISTS sales (\n",
    "    id INTEGER PRIMARY KEY AUTOINCREMENT,\n",
    "    product TEXT,\n",
    "    quantity INTEGER,\n",
    "    price REAL\n",
    ")\n",
    "''')"
   ]
  },
  {
   "cell_type": "code",
   "execution_count": 6,
   "id": "1b666214",
   "metadata": {},
   "outputs": [],
   "source": [
    "# Insert sample data (run once)\n",
    "sample_data = [\n",
    "    (\"Product A\", 10, 20.5),\n",
    "    (\"Product B\", 5, 15.0),\n",
    "    (\"Product A\", 7, 20.5),\n",
    "    (\"Product C\", 3, 25.0),\n",
    "    (\"Product B\", 2, 15.0),\n",
    "]\n",
    "conn.executemany(\"INSERT INTO sales (product, quantity, price) VALUES (?, ?, ?)\", sample_data)\n",
    "conn.commit()"
   ]
  },
  {
   "cell_type": "code",
   "execution_count": 7,
   "id": "d2c7a047",
   "metadata": {},
   "outputs": [],
   "source": [
    "# SQL query to calculate total quantity and revenue\n",
    "query = \"SELECT product, SUM(quantity) AS total_qty, SUM(quantity * price) AS revenue FROM sales GROUP BY product\"\n",
    "df = pd.read_sql_query(query, conn)"
   ]
  },
  {
   "cell_type": "code",
   "execution_count": 8,
   "id": "69a94881",
   "metadata": {},
   "outputs": [
    {
     "name": "stdout",
     "output_type": "stream",
     "text": [
      "Sales Summary:\n",
      "     product  total_qty  revenue\n",
      "0  Product A         34    697.0\n",
      "1  Product B         14    210.0\n",
      "2  Product C          6    150.0\n"
     ]
    }
   ],
   "source": [
    "# Display query result\n",
    "print(\"Sales Summary:\")\n",
    "print(df)"
   ]
  },
  {
   "cell_type": "code",
   "execution_count": 9,
   "id": "5f5bbf03",
   "metadata": {},
   "outputs": [
    {
     "data": {
      "image/png": "[encoded data removed]",
      "text/plain": [
       "<Figure size 640x480 with 1 Axes>"
      ]
     },
     "metadata": {},
     "output_type": "display_data"
    }
   ],
   "source": [
    "# Plot bar chart for revenue\n",
    "df.plot(kind='bar', x='product', y='revenue', legend=False, color='skyblue')\n",
    "plt.title(\"Revenue by Product\")\n",
    "plt.xlabel(\"Product\")\n",
    "plt.ylabel(\"Revenue\")\n",
    "plt.tight_layout()\n",
    "plt.savefig(\"sales_chart.png\")  # Save the chart\n",
    "plt.show()"
   ]
  },
  {
   "cell_type": "code",
   "execution_count": 15,
   "id": "9fdca770",
   "metadata": {},
   "outputs": [],
   "source": [
    " import sqlite3\n",
    "conn = sqlite3.connect(\"sales_data.db\")\n"
   ]
  },
  {
   "cell_type": "code",
   "execution_count": 16,
   "id": "3de7fc75-5eab-41d7-b479-ccaa37248389",
   "metadata": {},
   "outputs": [
    {
     "name": "stdout",
     "output_type": "stream",
     "text": [
      "Total Revenue: 1057.0\n"
     ]
    }
   ],
   "source": [
    " cursor = conn.execute(\"SELECT SUM(quantity * price) AS total_revenue FROM sales\")\n",
    "for row in cursor:\n",
    "    print(\"Total Revenue:\", row[0])\n"
   ]
  },
  {
   "cell_type": "code",
   "execution_count": 18,
   "id": "17b06244-1009-4fdf-8e6b-2c34efb3dfb2",
   "metadata": {},
   "outputs": [
    {
     "name": "stdout",
     "output_type": "stream",
     "text": [
      "Top-Selling Product: Product A | Quantity Sold: 34\n"
     ]
    }
   ],
   "source": [
    " cursor = conn.execute(\"\"\"\n",
    "    SELECT product, SUM(quantity) AS total_quantity\n",
    "    FROM sales\n",
    "    GROUP BY product\n",
    "    ORDER BY total_quantity DESC\n",
    "    LIMIT 1\n",
    "\"\"\")\n",
    "for row in cursor:\n",
    "    print(\"Top-Selling Product:\", row[0], \"| Quantity Sold:\", row[1])\n"
   ]
  },
  {
   "cell_type": "code",
   "execution_count": 20,
   "id": "2d0de6c0-ce83-4d48-ba23-f38c7661a13d",
   "metadata": {},
   "outputs": [
    {
     "name": "stdout",
     "output_type": "stream",
     "text": [
      "Product A: Average Price = 20.5\n",
      "Product B: Average Price = 15.0\n",
      "Product C: Average Price = 25.0\n"
     ]
    }
   ],
   "source": [
    " cursor = conn.execute(\"\"\"\n",
    "    SELECT product, AVG(price) AS avg_price\n",
    "    FROM sales\n",
    "    GROUP BY product\n",
    "\"\"\")\n",
    "for row in cursor:\n",
    "    print(f\"{row[0]}: Average Price = {row[1]}\")\n"
   ]
  },
  {
   "cell_type": "code",
   "execution_count": 21,
   "id": "5a66cbf4-2483-4a91-a9b1-7a89a61a0194",
   "metadata": {},
   "outputs": [
    {
     "name": "stdout",
     "output_type": "stream",
     "text": [
      "Product: Product A, Quantity: 34, Revenue: 697.0\n",
      "Product: Product B, Quantity: 14, Revenue: 210.0\n",
      "Product: Product C, Quantity: 6, Revenue: 150.0\n"
     ]
    }
   ],
   "source": [
    "cursor = conn.execute(\"\"\"\n",
    "    SELECT product, SUM(quantity) AS total_qty, SUM(quantity * price) AS revenue\n",
    "    FROM sales\n",
    "    GROUP BY product\n",
    "\"\"\")\n",
    "for row in cursor:\n",
    "    print(f\"Product: {row[0]}, Quantity: {row[1]}, Revenue: {row[2]}\")\n"
   ]
  },
  {
   "cell_type": "code",
   "execution_count": 22,
   "id": "623a50ca-e127-49d0-aa05-c5b1818026e3",
   "metadata": {},
   "outputs": [],
   "source": [
    " conn.close()\n"
   ]
  },
  {
   "cell_type": "code",
   "execution_count": null,
   "id": "f69c0646-bf07-4a93-b5c8-2cdace22ccc5",
   "metadata": {},
   "outputs": [],
   "source": []
  }
 ],
 "metadata": {
  "kernelspec": {
   "display_name": "Python 3 (ipykernel)",
   "language": "python",
   "name": "python3"
  },
  "language_info": {
   "codemirror_mode": {
    "name": "ipython",
    "version": 3
   },
   "file_extension": ".py",
   "mimetype": "text/x-python",
   "name": "python",
   "nbconvert_exporter": "python",
   "pygments_lexer": "ipython3",
   "version": "3.10.4"
  }
 },
 "nbformat": 4,
 "nbformat_minor": 5
}
